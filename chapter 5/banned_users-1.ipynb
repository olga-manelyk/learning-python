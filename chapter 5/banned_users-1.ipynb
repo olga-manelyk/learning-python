{
 "cells": [
  {
   "cell_type": "code",
   "execution_count": null,
   "metadata": {},
   "outputs": [],
   "source": [
    "banned_users = ['andrew', 'carolina', 'david']\n",
    "user ='marie'\n",
    "if user not in banned_users:\n",
    "    print(user.title() + \", you caan post a response if you wish.\")"
   ]
  }
 ],
 "metadata": {
  "language_info": {
   "name": "python"
  }
 },
 "nbformat": 4,
 "nbformat_minor": 2
}
